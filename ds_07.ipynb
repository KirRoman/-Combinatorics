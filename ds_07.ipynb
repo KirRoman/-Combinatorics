{
 "cells": [
  {
   "cell_type": "markdown",
   "metadata": {},
   "source": [
    "Task 1\n",
    "Сколько биграмм и триграмм можно собрать из предложения Нормальность — это асфальтированная дорога по ней удобно идти но цветы на ней не растут?"
   ]
  },
  {
   "cell_type": "code",
   "execution_count": 10,
   "metadata": {},
   "outputs": [
    {
     "data": {
      "text/plain": [
       "['Нормальность',\n",
       " 'это',\n",
       " 'асфальтированная',\n",
       " 'дорога',\n",
       " 'по',\n",
       " 'ней',\n",
       " 'удобно',\n",
       " 'идти',\n",
       " 'но',\n",
       " 'цветы',\n",
       " 'на',\n",
       " 'ней',\n",
       " 'не',\n",
       " 'растут']"
      ]
     },
     "execution_count": 10,
     "metadata": {},
     "output_type": "execute_result"
    }
   ],
   "source": [
    "import math\n",
    "s = \"Нормальность это асфальтированная дорога по ней удобно идти но цветы на ней не растут\".split()\n",
    "s = list(s)\n",
    "s"
   ]
  },
  {
   "cell_type": "code",
   "execution_count": 11,
   "metadata": {},
   "outputs": [
    {
     "data": {
      "text/plain": [
       "13"
      ]
     },
     "execution_count": 11,
     "metadata": {},
     "output_type": "execute_result"
    }
   ],
   "source": [
    "# Биграммы\n",
    "b = len(s) - 1\n",
    "b"
   ]
  },
  {
   "cell_type": "code",
   "execution_count": 12,
   "metadata": {},
   "outputs": [
    {
     "data": {
      "text/plain": [
       "12"
      ]
     },
     "execution_count": 12,
     "metadata": {},
     "output_type": "execute_result"
    }
   ],
   "source": [
    "# Триграммы\n",
    "t = len(s) - 2\n",
    "t"
   ]
  },
  {
   "cell_type": "markdown",
   "metadata": {},
   "source": [
    "Task 2\n",
    "У логистической регрессии есть некоторое количество гиперпараметров:\n",
    "\n",
    "fit_intercept, принимающий True или False;\n",
    "penalty (рассмотрим только l1, l2);\n",
    "solver (рассмотрим только liblinear, saga).\n",
    "Наша задача найти оптимальную комбинацию этих параметров, которая приведёт к наилучшей точности прогноза. Сколько вариантов нужно будет перебрать, сравнив точность полученных моделей на валидационной выборке?"
   ]
  },
  {
   "cell_type": "code",
   "execution_count": 20,
   "metadata": {},
   "outputs": [
    {
     "data": {
      "text/plain": [
       "8"
      ]
     },
     "execution_count": 20,
     "metadata": {},
     "output_type": "execute_result"
    }
   ],
   "source": [
    "fit_intercept = 2\n",
    "penalty = 2\n",
    "solver =  2\n",
    "comb = 2 ** 3\n",
    "comb"
   ]
  },
  {
   "cell_type": "markdown",
   "metadata": {},
   "source": [
    "Task 3\n",
    "На странице интернет-магазина в блоке рекомендованных товаров есть 5 слотов. Всего в магазине представлено 120 товаров. Подсчитайте, какое количество вариантов существует, чтобы предложить пользователю товары. Стоит принять во внимание, что порядок товаров имеет значение. Пользователи кликают реже на товары, которые замыкают блок рекомендаций."
   ]
  },
  {
   "cell_type": "code",
   "execution_count": 14,
   "metadata": {},
   "outputs": [
    {
     "data": {
      "text/plain": [
       "22869362880"
      ]
     },
     "execution_count": 14,
     "metadata": {},
     "output_type": "execute_result"
    }
   ],
   "source": [
    "math.perm(120,5)"
   ]
  },
  {
   "cell_type": "markdown",
   "metadata": {},
   "source": [
    "Task 4\n",
    "В магазине есть база клиентов, в которой находятся 320 пользователей. У каждого из них есть история покупок. Было принято решение внедрить рекомендательную систему, которая будет предлагать пользователям товары, которые были куплены похожими пользователями. В первую очередь нужно рассчитать похожесть всех пользователей друг на друга, а затем выбрать наиболее похожих. Сколько пар получится на этом этапе расчёта?"
   ]
  },
  {
   "cell_type": "code",
   "execution_count": null,
   "metadata": {},
   "outputs": [
    {
     "data": {
      "text/plain": [
       "51040"
      ]
     },
     "metadata": {},
     "output_type": "display_data"
    }
   ],
   "source": [
    "math.comb(320,2)"
   ]
  },
  {
   "cell_type": "markdown",
   "metadata": {},
   "source": [
    "Task 5\n",
    "В магазине есть 500 товаров. Сколько существует возможностей объединить эти товары в наборы по 2 товара? Сколько — по 3 товара? Сколько — по 4 товара?"
   ]
  },
  {
   "cell_type": "code",
   "execution_count": 16,
   "metadata": {},
   "outputs": [
    {
     "data": {
      "text/plain": [
       "124750"
      ]
     },
     "execution_count": 16,
     "metadata": {},
     "output_type": "execute_result"
    }
   ],
   "source": [
    "math.comb(500,2)"
   ]
  },
  {
   "cell_type": "code",
   "execution_count": 17,
   "metadata": {},
   "outputs": [
    {
     "data": {
      "text/plain": [
       "20708500"
      ]
     },
     "execution_count": 17,
     "metadata": {},
     "output_type": "execute_result"
    }
   ],
   "source": [
    "math.comb(500,3)"
   ]
  },
  {
   "cell_type": "code",
   "execution_count": 18,
   "metadata": {},
   "outputs": [
    {
     "data": {
      "text/plain": [
       "2573031125"
      ]
     },
     "execution_count": 18,
     "metadata": {},
     "output_type": "execute_result"
    }
   ],
   "source": [
    "math.comb(500,4)"
   ]
  },
  {
   "cell_type": "markdown",
   "metadata": {},
   "source": [
    "Task 6\n",
    "У вас есть таблица с 20 уникальными строками. Вы хотите их перемешать, чтобы сформировать их случайную последовательность. Сколько уникальных вариантов расположения строк вы получите?"
   ]
  },
  {
   "cell_type": "code",
   "execution_count": 13,
   "metadata": {},
   "outputs": [
    {
     "data": {
      "text/plain": [
       "2432902008176640000"
      ]
     },
     "execution_count": 13,
     "metadata": {},
     "output_type": "execute_result"
    }
   ],
   "source": [
    "math.factorial(20)"
   ]
  },
  {
   "cell_type": "markdown",
   "metadata": {},
   "source": [
    "Task 7\n",
    "В магазине существует 5 товарных категорий: Бакалея, Замороженные Продукты, Готовая Еда, Бытовая Химия, Десерты. Вы занимаетесь нагрузочным тестированием сервиса. Вам надо сгенерировать сессии пользователей, в рамках которых они будут набирать себе товары в корзину. Но в корзину они будут набирать ровно 10 товаров (не больше и не меньше). Сколько уникальных сессий получится с точки зрения наполненности товарными категориями? Например, корзина может состоять полностью из 10 товаров категории Бакалея, а может наполовину состоять из этой категории, а наполовину — из товаров других категорий."
   ]
  },
  {
   "cell_type": "code",
   "execution_count": 19,
   "metadata": {},
   "outputs": [
    {
     "data": {
      "text/plain": [
       "1001.0"
      ]
     },
     "execution_count": 19,
     "metadata": {},
     "output_type": "execute_result"
    }
   ],
   "source": [
    "n = 5\n",
    "m = 10\n",
    "math.factorial(n + m -1) / math.factorial(n - 1) / math.factorial(m)"
   ]
  },
  {
   "cell_type": "markdown",
   "metadata": {},
   "source": [
    "Task 8\n",
    "Для системы регистрации на сайте нужно поставить ограничение по количеству символов в пароле. Идёт спор между 8 и 9 символами в пароле. Посчитайте разницу в количестве комбинаций, которое нужно перебрать, чтобы подобрать пароль пользователя. Для упрощения: в пароле разрешены только буквы латинского алфавита в нижнем регистре."
   ]
  },
  {
   "cell_type": "code",
   "execution_count": 21,
   "metadata": {},
   "outputs": [
    {
     "data": {
      "text/plain": [
       "5220676614400"
      ]
     },
     "execution_count": 21,
     "metadata": {},
     "output_type": "execute_result"
    }
   ],
   "source": [
    "comb8 = 26 ** 8\n",
    "comb9 = 26 ** 9\n",
    "comb9 - comb8"
   ]
  },
  {
   "cell_type": "markdown",
   "metadata": {},
   "source": [
    "Task 9\n",
    "Курьер каждый день должен проехать в области маршрут, который включает в себя 4 села, 3 поселка и 2 города. Всего 9 населенных пунктов. Посчитайте количество способов, которыми курьер может объезжать эти типы населенных пунктов? Например, село—поселок—поселок—село—село—город—село—поселок—город."
   ]
  },
  {
   "cell_type": "code",
   "execution_count": 22,
   "metadata": {},
   "outputs": [
    {
     "data": {
      "text/plain": [
       "1260.0"
      ]
     },
     "execution_count": 22,
     "metadata": {},
     "output_type": "execute_result"
    }
   ],
   "source": [
    "math.factorial(9) / (math.factorial(4) * math.factorial(3) * math.factorial(2))"
   ]
  }
 ],
 "metadata": {
  "kernelspec": {
   "display_name": "Python 3.9.12 ('base')",
   "language": "python",
   "name": "python3"
  },
  "language_info": {
   "codemirror_mode": {
    "name": "ipython",
    "version": 3
   },
   "file_extension": ".py",
   "mimetype": "text/x-python",
   "name": "python",
   "nbconvert_exporter": "python",
   "pygments_lexer": "ipython3",
   "version": "3.9.12"
  },
  "orig_nbformat": 4,
  "vscode": {
   "interpreter": {
    "hash": "52d9bec1bd0dd1d60d9f041927d73dc99a1ae836019e05c066f33f67e6a94d9c"
   }
  }
 },
 "nbformat": 4,
 "nbformat_minor": 2
}
